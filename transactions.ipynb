{
 "cells": [
  {
   "cell_type": "code",
   "execution_count": null,
   "metadata": {},
   "outputs": [],
   "source": [
    "import pandas as pd\n",
    "import matplotlib.pyplot as plt"
   ]
  },
  {
   "cell_type": "markdown",
   "metadata": {},
   "source": [
    "*Understanding the transaction data*"
   ]
  },
  {
   "cell_type": "code",
   "execution_count": null,
   "metadata": {},
   "outputs": [],
   "source": [
    "#read in transaction data\n",
    "trxDF = pd.read_parquet('data_science_take_home_transactions.parquet')\n",
    "trxDF.dtypes"
   ]
  },
  {
   "cell_type": "code",
   "execution_count": null,
   "metadata": {},
   "outputs": [],
   "source": [
    "#rename f0_ to amount\n",
    "trxDF = trxDF.rename(columns={'f0_': 'amount'})\n",
    "# use pandas type for date column\n",
    "trxDF['date'] = pd.to_datetime(trxDF['date'])\n",
    "trxDF.head()"
   ]
  },
  {
   "cell_type": "code",
   "execution_count": null,
   "metadata": {},
   "outputs": [],
   "source": [
    "#Question to understand schema - Do any user accounts use multiple bank accounts?\n",
    "count = trxDF.groupby('account_id')['bank_account_id'].nunique()\n",
    "count[count>1].any()"
   ]
  },
  {
   "cell_type": "markdown",
   "metadata": {},
   "source": [
    "*Visualize the payment data by user*"
   ]
  },
  {
   "cell_type": "code",
   "execution_count": null,
   "metadata": {},
   "outputs": [],
   "source": [
    "import matplotlib.pyplot as plt\n",
    "\n",
    "def visualize_user_payments(user_id, df):\n",
    "    payments = df[(df['account_id'] == user_id) & (df['amount'] > 0)]\n",
    "\n",
    "    plt.scatter(pd.to_datetime(payments['date']), payments['amount'])\n",
    "\n",
    "    plt.xlabel('Date')\n",
    "    plt.ylabel('Amount')\n",
    "    plt.title('Payments Received by User ' + user_id)\n",
    "\n",
    "    plt.show()\n"
   ]
  },
  {
   "cell_type": "code",
   "execution_count": null,
   "metadata": {},
   "outputs": [],
   "source": [
    "import matplotlib.pyplot as plt\n",
    "\n",
    "def visualize_user_payments_histogram(user_id, df):\n",
    "    payments = df[(df['account_id'] == user_id) & (df['amount'] > 0)]\n",
    "\n",
    "    plt.hist(payments['amount'], bins=3)\n",
    "\n",
    "    plt.xlabel('Amount')\n",
    "    plt.ylabel('Frequency')\n",
    "    plt.title('Payments Histogram for User ' + user_id)\n",
    "\n",
    "    plt.show()\n"
   ]
  },
  {
   "cell_type": "code",
   "execution_count": null,
   "metadata": {},
   "outputs": [],
   "source": [
    "#visualize_user_payments(trxDF['account_id'].unique()[4],trxDF)\n",
    "visualize_user_payments('h5aza5vad3b8p', trxDF)"
   ]
  },
  {
   "cell_type": "code",
   "execution_count": null,
   "metadata": {},
   "outputs": [],
   "source": [
    "#visualize_user_payments_histogram(trxDF['account_id'].unique()[1],trxDF)\n",
    "visualize_user_payments_histogram('h5aza5vad3b8p', trxDF)"
   ]
  },
  {
   "cell_type": "code",
   "execution_count": null,
   "metadata": {},
   "outputs": [],
   "source": [
    "df_given_user = trxDF[(trxDF['account_id'] == 'zs569bfbe1pma') & (trxDF['amount'] > 750)]\n",
    "df_given_user.sort_values(by=['amount'], inplace=True,ascending=False)\n",
    "df_given_user"
   ]
  },
  {
   "cell_type": "markdown",
   "metadata": {},
   "source": [
    "## Feature Extraction\n",
    "### Extract features from the data for clustering\n",
    "1. Use histogram data with three bins each as features - visualized above\n",
    "2. Frequency metric\n",
    "3. Percentage made up by top 2 payments monthly\n",
    "4. Percentage made up by single largest payment monthly - could indicate pension or monthly income\n",
    "5. Payment \"regularity\" metric - standard deviation of days between positive transaction\n",
    "6. Number of unique payment names\n"
   ]
  },
  {
   "cell_type": "code",
   "execution_count": null,
   "metadata": {},
   "outputs": [],
   "source": [
    "import datetime\n",
    "\n",
    "# just last six months of data to start out with a cleaner dataset\n",
    "today = datetime.date.today()\n",
    "six_months_ago = today - pd.DateOffset(months=6)\n",
    "trxDF_six_months = trxDF.loc[trxDF['date'] >= six_months_ago]"
   ]
  },
  {
   "cell_type": "markdown",
   "metadata": {},
   "source": [
    "**histogram data into 3 bins**"
   ]
  },
  {
   "cell_type": "code",
   "execution_count": null,
   "metadata": {},
   "outputs": [],
   "source": [
    "import numpy as np\n",
    "# Get the payment amounts per user\n",
    "payment_amounts = trxDF[trxDF['amount']>0].groupby('account_id')\n"
   ]
  },
  {
   "cell_type": "code",
   "execution_count": null,
   "metadata": {},
   "outputs": [],
   "source": [
    "# Calculate the histogram for each user\n",
    "histograms = payment_amounts.apply(lambda x: np.histogram(x['amount'], bins=3)[0])\n",
    "\n",
    "histograms"
   ]
  },
  {
   "cell_type": "markdown",
   "metadata": {},
   "source": [
    "\n",
    "**Get some generally applicable features based on payment frequency**\n"
   ]
  },
  {
   "cell_type": "code",
   "execution_count": null,
   "metadata": {},
   "outputs": [],
   "source": [
    "payments = trxDF[trxDF['amount'] > 0].groupby('account_id')\n",
    "date_range = pd.Timestamp.now() - payments['date'].min()\n",
    "paymentsPerDay = payments.size() / date_range.apply(lambda x: x.days)\n",
    "paymentsPerDay.sort_index(inplace=True, ascending=False)\n",
    "paymentsPerDay.head()"
   ]
  },
  {
   "cell_type": "markdown",
   "metadata": {},
   "source": [
    "\n",
    "**Metric to answer - how much of the total inbound value / month is coming from the largest payments**"
   ]
  },
  {
   "cell_type": "code",
   "execution_count": null,
   "metadata": {},
   "outputs": [],
   "source": [
    "# How much income on average comes from top two payments per month?\n",
    "\n",
    "# calculate the monthly income for each user\n",
    "trxDF['month'] = trxDF['date'].dt.month\n",
    "\n",
    "monthly_income = trxDF[trxDF['amount']>0].groupby(['account_id', 'month'])['amount'].sum().reset_index()\n",
    "\n",
    "monthly_income.rename(columns={'amount': 'income'}, inplace=True)"
   ]
  },
  {
   "cell_type": "code",
   "execution_count": null,
   "metadata": {},
   "outputs": [],
   "source": [
    "\n",
    "trxDF = trxDF.sort_values(by=['account_id', 'month', 'amount'], ascending=False)\n",
    "\n",
    "# select the top 2 payments to each user and each month (could indicate biweekly payments)\n",
    "top_2 = trxDF.groupby(['account_id', 'month']).head(2).reset_index(drop=True)\n",
    "\n",
    "# find percentage of monthly income from the top 2 transactions for each user and each month\n",
    "top_2 = top_2.merge(monthly_income, on=['account_id', 'month'])\n",
    "top_2['percentage'] = top_2['amount'].div(top_2['income'])\n",
    "\n",
    "avg_top2_pct = top_2.groupby('account_id')['percentage'].mean()\n",
    "avg_top2_pct.sort_index(inplace=True, ascending=False)\n",
    "avg_top2_pct.head()"
   ]
  },
  {
   "cell_type": "code",
   "execution_count": null,
   "metadata": {},
   "outputs": [],
   "source": [
    "# select the largest payment to each user and each month (could indicate biweekly payments)\n",
    "top_payment = trxDF.groupby(['account_id', 'month']).head(1).reset_index(drop=True)\n",
    "\n",
    "# find percentage of monthly income from the top 2 transactions for each user and each month\n",
    "top_payment = top_payment.merge(monthly_income, on=['account_id', 'month'])\n",
    "top_payment['percentage'] = top_payment['amount'].div(top_payment['income'])\n",
    "\n",
    "avg_top_pmnt_pct = top_payment.groupby('account_id')['percentage'].mean()#.reset_index()\n",
    "avg_top_pmnt_pct.sort_index(inplace=True, ascending=False)\n",
    "avg_top_pmnt_pct.head()"
   ]
  },
  {
   "cell_type": "markdown",
   "metadata": {},
   "source": [
    "**Regularity of payments based on standard deviation**"
   ]
  },
  {
   "cell_type": "code",
   "execution_count": null,
   "metadata": {},
   "outputs": [],
   "source": [
    "trxDF = trxDF.sort_values('date')\n",
    "\n",
    "# std deviations of days between payment dates\n",
    "def std_diff(group):\n",
    "    return group['date'].diff().dt.days.std()\n",
    "\n",
    "# group the dataframe by the account id and calculate std of time days payment dates\n",
    "std_days_between = trxDF.groupby('account_id').apply(std_diff)\n",
    "std_days_between.sort_index(inplace=True, ascending=False)\n",
    "std_days_between.head()"
   ]
  },
  {
   "cell_type": "markdown",
   "metadata": {},
   "source": [
    "**Number of unique positive transaction (payment) names**"
   ]
  },
  {
   "cell_type": "code",
   "execution_count": null,
   "metadata": {},
   "outputs": [],
   "source": [
    "unique_payers = trxDF[trxDF['amount'] > 0].groupby('account_id')['name'].nunique()\n",
    "unique_payers.sort_index(inplace=True, ascending=False)\n",
    "unique_payers"
   ]
  },
  {
   "cell_type": "markdown",
   "metadata": {},
   "source": [
    "# KMeans clustering to segment into three groups of users\n",
    "We want to find three segments, namely gig workers, salaried (biweekly paydays), and pensioners (monthly paydays)."
   ]
  },
  {
   "cell_type": "code",
   "execution_count": null,
   "metadata": {},
   "outputs": [],
   "source": [
    "avg_top2_pct.shape"
   ]
  },
  {
   "cell_type": "code",
   "execution_count": null,
   "metadata": {},
   "outputs": [],
   "source": [
    "features = pd.concat([paymentsPerDay, std_days_between, unique_payers, avg_top_pmnt_pct,avg_top2_pct], axis=1,keys=['paymentsPerDay', 'std_days_between', 'unique_payers', 'avg_top_pmnt_pct','avg_top2_pct'])\n",
    "features = features.dropna()\n",
    "features.head()"
   ]
  },
  {
   "cell_type": "code",
   "execution_count": null,
   "metadata": {},
   "outputs": [],
   "source": [
    "from sklearn.cluster import KMeans\n"
   ]
  },
  {
   "cell_type": "code",
   "execution_count": null,
   "metadata": {},
   "outputs": [],
   "source": [
    "normalizedFeatures = (features - features.min()) / (features.max() - features.min())\n",
    "normalizedFeatures.head()"
   ]
  },
  {
   "cell_type": "code",
   "execution_count": null,
   "metadata": {},
   "outputs": [],
   "source": [
    "\n",
    "# Create and fit kmeans model\n",
    "kmeans = KMeans(n_clusters=3, random_state=42)\n",
    "kmeans.fit(normalizedFeatures)\n",
    "\n",
    "# Assign cluster labels to data\n",
    "features[\"cluster\"] = kmeans.labels_"
   ]
  },
  {
   "cell_type": "code",
   "execution_count": null,
   "metadata": {},
   "outputs": [],
   "source": [
    "features[features['cluster'] == 0]"
   ]
  },
  {
   "cell_type": "markdown",
   "metadata": {},
   "source": [
    "# Evaluation of results so far\n",
    "Cluster 0 likely indicates salaried workers and some pension workers with regular payments that also make up a large percentage of their income. Cluster 1 seems to contain salaried workers as well with gig income also indicated by irregularity of payment timing and frequency of payments. Cluster 2 likely includes some salaried workers but with numbers of payments and unique payment names.\n",
    "\n",
    "This model doesn't seem very accurate yet as we were primarily searching for segments with the three different types of income payment-frequencies. Cluster 1 and cluster 2 don't seem to be clearly delineated. This model also doesn't account for users with different types of incomes"
   ]
  },
  {
   "cell_type": "markdown",
   "metadata": {},
   "source": [
    "**Improving the models**\n",
    "- Binary classification models for each type of income.\n",
    "- - This would enable features specified for each type of decision. Salaried workers will likely have paychecks with a certain minimum amount. It would make sense to filter for payments greater than $800 to search for biweekly paychecks\n",
    "- - This would also account for multiple income types with each classification happening separately\n",
    "\n",
    "\n",
    "**Use case for NLP?**\n",
    "Naive approach: we could simply search for words / terms in the name of the transaction that would indicate what type of payment it is - income, loan, p2p, etc.\n",
    "Even better: A standard LLM could likely be fine-tuned to classify each transaction line, considering all fields, to decide what type of payment it is.\n",
    "\n",
    "Once the classification is made between income or otherwise, the type of income can be calculated fairly easily based on payment frequency"
   ]
  },
  {
   "cell_type": "markdown",
   "metadata": {},
   "source": []
  }
 ],
 "metadata": {
  "kernelspec": {
   "display_name": "Python 3",
   "language": "python",
   "name": "python3"
  },
  "language_info": {
   "codemirror_mode": {
    "name": "ipython",
    "version": 3
   },
   "file_extension": ".py",
   "mimetype": "text/x-python",
   "name": "python",
   "nbconvert_exporter": "python",
   "pygments_lexer": "ipython3",
   "version": "3.10.12"
  }
 },
 "nbformat": 4,
 "nbformat_minor": 2
}
